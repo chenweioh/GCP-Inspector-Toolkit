{
  "nbformat": 4,
  "nbformat_minor": 0,
  "metadata": {
    "colab": {
      "provenance": [],
      "authorship_tag": "ABX9TyMIfdnLuh0oQRo1kdZkI1BD",
      "include_colab_link": true
    },
    "kernelspec": {
      "name": "python3",
      "display_name": "Python 3"
    },
    "language_info": {
      "name": "python"
    }
  },
  "cells": [
    {
      "cell_type": "markdown",
      "metadata": {
        "id": "view-in-github",
        "colab_type": "text"
      },
      "source": [
        "<a href=\"https://colab.research.google.com/github/chenweioh/GCP-Inspector-Toolkit/blob/main/BE_Inspection_Random_Study_Selection_Script.ipynb\" target=\"_parent\"><img src=\"https://colab.research.google.com/assets/colab-badge.svg\" alt=\"Open In Colab\"/></a>"
      ]
    },
    {
      "cell_type": "code",
      "execution_count": 1,
      "metadata": {
        "colab": {
          "base_uri": "https://localhost:8080/",
          "height": 0
        },
        "id": "jBgzWykBGuyQ",
        "outputId": "0245cb84-7eb3-4d38-aed9-f18abebacce5"
      },
      "outputs": [
        {
          "output_type": "stream",
          "name": "stdout",
          "text": [
            "Enter the total number of items: 138\n",
            "Do you want to generate a new number (N) or reconstruct a previous selection (R)? N\n",
            "Enter the seed number: 202410050940\n",
            "Older study selection: 62\n",
            "Recent study selection: 95\n"
          ]
        }
      ],
      "source": [
        "import random\n",
        "\n",
        "def generate_numbers(total_number):\n",
        "    # Split the total number into two parts\n",
        "    older_study_end = int(total_number * 0.66)\n",
        "    older_study_numbers = list(range(1, older_study_end + 1))\n",
        "    recent_study_numbers = list(range(older_study_end + 1, total_number + 1))\n",
        "\n",
        "    # Generate a random number from the older study\n",
        "    older_study_selection = random.choice(older_study_numbers)\n",
        "\n",
        "    # Generate a random number from the recent study\n",
        "    recent_study_selection = random.choice(recent_study_numbers)\n",
        "\n",
        "    return older_study_selection, recent_study_selection\n",
        "\n",
        "def main():\n",
        "    # Ask for user input on the total number of items\n",
        "    total_number = int(input(\"Enter the total number of items: \"))\n",
        "\n",
        "    # Ask whether to generate a new number or reconstruct\n",
        "    choice = input(\"Do you want to generate a new number (N) or reconstruct a previous selection (R)? \")\n",
        "\n",
        "    if choice.lower() == 'n':\n",
        "        # Generate new numbers\n",
        "        seed = int(input(\"Enter the seed number: \"))  # Prompt for the seed\n",
        "        random.seed(seed)\n",
        "        older_study_selection, recent_study_selection = generate_numbers(total_number)\n",
        "        print(f\"Older study selection: {older_study_selection}\")\n",
        "        print(f\"Recent study selection: {recent_study_selection}\")\n",
        "    elif choice.lower() == 'r':\n",
        "        # Ask for the seed number\n",
        "        seed = int(input(\"Enter the seed number: \"))\n",
        "        random.seed(seed)\n",
        "        older_study_selection, recent_study_selection = generate_numbers(total_number)\n",
        "        print(f\"Reconstructed older study selection: {older_study_selection}\")\n",
        "        print(f\"Reconstructed recent study selection: {recent_study_selection}\")\n",
        "    else:\n",
        "        print(\"Invalid choice. Please enter 'N' for new selection or 'R' for reconstruction.\")\n",
        "\n",
        "if __name__ == \"__main__\":\n",
        "    main()\n"
      ]
    },
    {
      "cell_type": "markdown",
      "source": [
        "## User Manual: Random Study Selection Script for Google Colab\n",
        "\n",
        "### Introduction\n",
        "Welcome to the user manual for the BE Inspection Random Study Selection Script. This script allows users to generate random selections from two different subsets of items based on user-defined parameters. This manual guides you on how to run the script using Google Colab after accessing it from GitHub.\n",
        "\n",
        "In a professional setting, such as during Bioequivalence (BE) inspections, there are instances where inspectors receive a list of BE studies and may face uncertainty regarding which one to select for further analysis. In such scenarios, the Random Study Selection Script can prove to be a valuable tool.\n",
        "\n",
        "By utilizing this script, inspectors can ensure an unbiased selection process, enhancing the credibility of their work. The randomness introduced by the script eliminates any potential biases or preconceived notions that may influence the selection process. This ensures that each study has an equal chance of being chosen, thereby promoting fairness and transparency in the selection process.\n",
        "\n",
        "Furthermore, employing the script in BE inspections can contribute to the overall integrity of the regulatory process. By adopting a systematic and impartial approach to study selection, inspectors can uphold the standards of objectivity and accuracy expected in regulatory evaluations. This, in turn, enhances the reliability and trustworthiness of the inspection outcomes, ultimately benefiting the stakeholders involved in drug development and regulatory compliance.\n",
        "\n",
        "\n",
        "### Prerequisites\n",
        "Before running the script, ensure you have the following:\n",
        "- Access to a web browser.\n",
        "- Basic understanding of using Google Colab.\n",
        "- Basic understanding of Python programming.\n",
        "\n",
        "### Getting Started\n",
        "To use the script on Google Colab, follow these steps:\n",
        "\n",
        "1. **Access the Script**: Open the GitHub repository containing the script in your web browser.\n",
        "\n",
        "2. **Open in Google Colab**: Click on the \"Open in Colab\" button to open the script in a Google Colab notebook.\n",
        "\n",
        "3. **Run the Script**: In the Google Colab notebook, execute the script by running each code cell sequentially.\n",
        "\n",
        "### Using the Script\n",
        "Once the script is running, follow these steps to generate random selections:\n",
        "\n",
        "1. **Enter Total Number of Items**: Input the total number of items when prompted. This represents the size of the dataset from which selections will be made.\n",
        "\n",
        "2. **Select Action**: Choose whether to generate a new number (`N`) or reconstruct a previous selection (`R`).\n",
        "    - To generate a new number, enter `N`.\n",
        "    - To reconstruct a previous selection, enter `R`.\n",
        "\n",
        "3. **Provide Seed Number (if applicable)**: If you chose to generate a new number or reconstruct a selection, enter the seed number when prompted. The seed ensures reproducibility of random selections. If you're reconstructing a previous selection, provide the same seed used during the initial selection.\n",
        "\n",
        "4. **View Selections**: The script will output the selections based on your inputs.\n",
        "    - For a new selection, you'll see the selections from the older study and the recent study.\n",
        "    - For a reconstructed selection, you'll see the previously selected numbers from both studies.\n",
        "\n",
        "### Example Usage\n",
        "Here's an example of how to use the script:\n",
        "\n",
        "1. Enter the total number of items: `100`\n",
        "2. Select action - generate a new number (N) or reconstruct a previous selection (R): `N`\n",
        "3. Enter the seed number: `123`\n",
        "4. Output:\n",
        "    ```\n",
        "    Older study selection: 72\n",
        "    Recent study selection: 85\n",
        "    ```\n",
        "\n",
        "### Troubleshooting\n",
        "If you encounter any issues while using the script, please ensure:\n",
        "- You're running the script in a Google Colab notebook.\n",
        "- You've entered valid inputs as per the prompts.\n",
        "- The seed number is an integer value.\n",
        "- You've followed the correct steps outlined in this manual.\n",
        "\n",
        "For further assistance, you can refer to the script's documentation or seek help from the script author.\n",
        "\n",
        "---\n",
        "\n",
        "This user manual provides a comprehensive guide on how to run and utilize the Random Study Selection Script accessed from GitHub on Google Colab. If you have any further questions or need assistance, feel free to refer to additional documentation provided with the script or contact the script author.\n"
      ],
      "metadata": {
        "id": "Osji4ij1I-7b"
      }
    },
    {
      "cell_type": "code",
      "source": [],
      "metadata": {
        "id": "3mAkPQYQH7lm"
      },
      "execution_count": null,
      "outputs": []
    }
  ]
}