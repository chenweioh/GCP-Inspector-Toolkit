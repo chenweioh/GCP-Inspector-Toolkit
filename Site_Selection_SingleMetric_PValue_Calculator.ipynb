{
  "nbformat": 4,
  "nbformat_minor": 0,
  "metadata": {
    "colab": {
      "provenance": [],
      "toc_visible": true,
      "authorship_tag": "ABX9TyNAiknCLPQLY5HQJwu+lsYt",
      "include_colab_link": true
    },
    "kernelspec": {
      "name": "python3",
      "display_name": "Python 3"
    },
    "language_info": {
      "name": "python"
    }
  },
  "cells": [
    {
      "cell_type": "markdown",
      "metadata": {
        "id": "view-in-github",
        "colab_type": "text"
      },
      "source": [
        "<a href=\"https://colab.research.google.com/github/chenweioh/GCP-Inspector-Toolkit/blob/main/Site_Selection_SingleMetric_PValue_Calculator.ipynb\" target=\"_parent\"><img src=\"https://colab.research.google.com/assets/colab-badge.svg\" alt=\"Open In Colab\"/></a>"
      ]
    },
    {
      "cell_type": "markdown",
      "source": [
        "#User Guide: Site Analysis Using Fisher's Exact Test for a Single Metric\n",
        "###Overview\n",
        "This Python script is specifically tailored for those interested in evaluating the statistical significance of a single metric across multiple study sites. The script uses Fisher's Exact Test to calculate p-values that indicate the degree to which each site's metric deviates from the overall metric.\n",
        "\n",
        "###What Does This Script Do?\n",
        "\n",
        "It calculates the p-value for a single metric (like Enrollment/Screened, PD/Enrollment, or AE/Enrollment) for each site. It uses a 2x2 table to compare each site's metric to the overall metric across all sites and then prints out the calculated p-value for each site.\n",
        "\n",
        "##How to Use It\n",
        "###Prerequisites\n",
        "**Local Machine:**\n",
        "You must have Python installed on your computer.You also need to install the scipy library. You can install it using pip:\n",
        "\n",
        "```\n",
        "pip install scipy\n",
        "```\n",
        "**Google Colab**: Alternatively, you can run the script in Google Colab where installing Python or packages is not required. If using Colab, you might receive a warning. Just click \"Run Anyway\" as it is safe to proceed.\n",
        "\n",
        "\n",
        "###Steps to Run the Script\n",
        "**Input Your Data**: Replace the example data in the numerator_at_sites and denominator_at_sites variables with your actual data for the specific metric you are investigating.\n",
        "\n",
        "**Run the Script**: Run the script in your Python environment. If you're using a service like Google Colab, you may see a warning when you run the script. Click \"Run Anyway\"; it's safe.\n",
        "\n",
        "**Review the Output**: The script will print out a 2x2 table and the calculated p-value for each site. In the end, it will also list the two sites with the lowest p-values.\n",
        "\n",
        "###Customizing for Different Metrics\n",
        "To apply the script to different metrics, you only need to identify which of your variables will act as the numerator and which will be the denominator in the ratio you're investigating.\n",
        "\n",
        "For example, for the metric PD/Enrollment:\n",
        "\n",
        "PD would be the numerator.\n",
        "Enrollment would be the denominator.\n",
        "Replace the numerator_at_sites and denominator_at_sites variables in the code with your specific metrics. Make sure to adjust the total_numerator and total_denominator variables to reflect the total counts across all sites for your chosen metrics.\n",
        "\n",
        "And there you have it! You're now equipped to assess variations of a single metric across different study sites."
      ],
      "metadata": {
        "id": "qiV1VxDFUk1Z"
      }
    },
    {
      "cell_type": "code",
      "source": [
        "from scipy.stats import fisher_exact\n",
        "\n",
        "# ====== INSTRUCTIONS ======\n",
        "\n",
        "# This code calculates the Fisher's Exact Test p-values for different metrics (ratios) at multiple clinical trial sites.\n",
        "# It sorts the sites based on the p-values in ascending order, highlighting the two sites with the smallest p-values.\n",
        "\n",
        "# 1. Replace the example numbers in `numerator_at_sites` and `denominator_at_sites` with the actual numbers for your metric at each site.\n",
        "# 2. Update `total_numerator` and `total_denominator` to reflect the total counts for the metric of interest across all sites.\n",
        "# 3. Run the code. If you run this in Colab, you may receive a warning. Click \"Run Anyway,\" as the code is safe.\n",
        "\n",
        "# Example metrics:\n",
        "# - For PD/Enrollment: PD is the numerator, Enrollment is the denominator\n",
        "# - For AE/Enrollment: AE is the numerator, Enrollment is the denominator\n",
        "# - For Enrollment/Screened: Enrollment is the numerator, Screened is the denominator\n",
        "\n",
        "# ==========================\n",
        "\n",
        "# Number of subjects for the numerator and the denominator for each site\n",
        "# Replace these numbers with your actual data\n",
        "numerator_at_sites = [5,10,4,1,0,1,2,1,0,1]  # Example data\n",
        "denominator_at_sites = [16,65,25,11,9,18,4,10,13,3]  # Example data\n",
        "\n",
        "# Total counts for the numerator and the denominator across all sites\n",
        "# Replace these numbers with your actual totals\n",
        "total_numerator = 4347  # Example data\n",
        "total_denominator = 7437 # Example data\n",
        "\n",
        "# Initialize a list to hold p-values and site numbers\n",
        "p_values = []\n",
        "\n",
        "# Calculate p-value for each site\n",
        "for i in range(len(numerator_at_sites)):\n",
        "    # 2x2 table\n",
        "    table = [\n",
        "        [numerator_at_sites[i], denominator_at_sites[i] - numerator_at_sites[i]],\n",
        "        [total_numerator - numerator_at_sites[i], total_denominator - total_numerator - (denominator_at_sites[i] - numerator_at_sites[i])]\n",
        "    ]\n",
        "    print(f\"2x2 Table for Site {i + 1}:\")\n",
        "    print(table)\n",
        "\n",
        "    _, p_value = fisher_exact(table)\n",
        "    print(f\"P-value for Site {i + 1}: {p_value}\\n\")\n",
        "\n",
        "    p_values.append((i + 1, p_value))\n",
        "\n",
        "# Sort by p-value\n",
        "sorted_p_values = sorted(p_values, key=lambda x: x[1])\n",
        "\n",
        "# Display the two sites with the smallest p-values\n",
        "print(\"Two sites with the smallest p-values:\")\n",
        "for i in range(2):\n",
        "    print(f\"Site {sorted_p_values[i][0]}: p-value = {sorted_p_values[i][1]}\")\n"
      ],
      "metadata": {
        "colab": {
          "base_uri": "https://localhost:8080/"
        },
        "id": "iYtoRg4dUjiM",
        "outputId": "d1fd8541-f2e5-4cb3-db7f-e32681e683a0"
      },
      "execution_count": null,
      "outputs": [
        {
          "output_type": "stream",
          "name": "stdout",
          "text": [
            "2x2 Table for Site 1:\n",
            "[[5, 11], [4342, 3079]]\n",
            "P-value for Site 1: 0.03939285773066778\n",
            "\n",
            "2x2 Table for Site 2:\n",
            "[[10, 55], [4337, 3035]]\n",
            "P-value for Site 2: 1.4472900727476543e-12\n",
            "\n",
            "2x2 Table for Site 3:\n",
            "[[4, 21], [4343, 3069]]\n",
            "P-value for Site 3: 1.742014621158726e-05\n",
            "\n",
            "2x2 Table for Site 4:\n",
            "[[1, 10], [4346, 3080]]\n",
            "P-value for Site 4: 0.001041798030423139\n",
            "\n",
            "2x2 Table for Site 5:\n",
            "[[0, 9], [4347, 3081]]\n",
            "P-value for Site 5: 0.00036650927376602347\n",
            "\n",
            "2x2 Table for Site 6:\n",
            "[[1, 17], [4346, 3073]]\n",
            "P-value for Site 6: 3.500411442040307e-06\n",
            "\n",
            "2x2 Table for Site 7:\n",
            "[[2, 2], [4345, 3088]]\n",
            "P-value for Site 7: 1.0\n",
            "\n",
            "2x2 Table for Site 8:\n",
            "[[1, 9], [4346, 3081]]\n",
            "P-value for Site 8: 0.002296900000414938\n",
            "\n",
            "2x2 Table for Site 9:\n",
            "[[0, 13], [4347, 3077]]\n",
            "P-value for Site 9: 1.0835999227526605e-05\n",
            "\n",
            "2x2 Table for Site 10:\n",
            "[[1, 2], [4346, 3088]]\n",
            "P-value for Site 10: 0.5740673220037045\n",
            "\n",
            "Two sites with the smallest p-values:\n",
            "Site 2: p-value = 1.4472900727476543e-12\n",
            "Site 6: p-value = 3.500411442040307e-06\n"
          ]
        }
      ]
    }
  ]
}