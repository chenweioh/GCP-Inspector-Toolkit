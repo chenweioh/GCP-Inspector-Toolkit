{
  "nbformat": 4,
  "nbformat_minor": 0,
  "metadata": {
    "colab": {
      "provenance": [],
      "authorship_tag": "ABX9TyMAgdissbX5u4ps9Cz3ASOI",
      "include_colab_link": true
    },
    "kernelspec": {
      "name": "ir",
      "display_name": "R"
    },
    "language_info": {
      "name": "R"
    }
  },
  "cells": [
    {
      "cell_type": "markdown",
      "metadata": {
        "id": "view-in-github",
        "colab_type": "text"
      },
      "source": [
        "<a href=\"https://colab.research.google.com/github/chenweioh/GCP-Inspector-Toolkit/blob/main/1_to_1_Nearest_Neighbor_Matching_Tutorial.ipynb\" target=\"_parent\"><img src=\"https://colab.research.google.com/assets/colab-badge.svg\" alt=\"Open In Colab\"/></a>"
      ]
    },
    {
      "cell_type": "markdown",
      "source": [
        "# 1-to-1 Nearest Neighbor Matching Tutorial"
      ],
      "metadata": {
        "id": "gt3I6akyr_Oe"
      }
    },
    {
      "cell_type": "markdown",
      "source": [
        "This document provides an overview and demonstration of how to perform 1-to-1 nearest neighbor matching using the R package MatchIt. Matching is a common technique in observational studies to balance covariates between treatment and control groups, thereby reducing confounding and enabling more accurate causal inference.\n"
      ],
      "metadata": {
        "id": "yRJ9ey-msH99"
      }
    },
    {
      "cell_type": "markdown",
      "source": [
        "Requirements\n",
        "R\n",
        "MatchIt package: Install if not already available."
      ],
      "metadata": {
        "id": "FjZ5TzXjsYxV"
      }
    },
    {
      "cell_type": "code",
      "source": [
        "# Install MatchIt package if not already installed\n",
        "if (!requireNamespace(\"MatchIt\", quietly = TRUE)) {\n",
        "  install.packages(\"MatchIt\")\n",
        "}\n",
        "\n",
        "# Load the MatchIt library\n",
        "library(MatchIt)\n"
      ],
      "metadata": {
        "id": "WjIMl-rusX2N"
      },
      "execution_count": 10,
      "outputs": []
    },
    {
      "cell_type": "markdown",
      "source": [
        "Step 1: Create a Sample Dataset\n",
        "We start by creating a synthetic dataset with 20 observations and the following variables:\n",
        "\n",
        "age: Randomly sampled ages between 30 and 80.\n",
        "disease_stage: Hypertension status, either \"HPT\" (with hypertension) or \"without HPT\" (no hypertension).\n",
        "gender: Randomly assigned as \"Male\" or \"Female\".\n",
        "treatment: Binary variable indicating whether an individual received the treatment (1 = treated, 0 = control).\n",
        "\n",
        "The treatment variable is our treatment assignment indicator, where 1 indicates the individual received treatment, and 0 indicates they did not (control group). We want to balance the covariates (age, disease_stage, and gender) between treated and control groups to reduce potential biases."
      ],
      "metadata": {
        "id": "dD3ypdG4sdpV"
      }
    },
    {
      "cell_type": "code",
      "source": [
        "# Set a seed for reproducibility\n",
        "set.seed(42)\n",
        "\n",
        "# Create a sample dataset\n",
        "data <- data.frame(\n",
        "  age = sample(30:80, 20, replace = TRUE),\n",
        "  disease_stage = sample(c(\"HPT\", \"without HPT\"), 20, replace = TRUE),\n",
        "  gender = sample(c(\"Male\", \"Female\"), 20, replace = TRUE),\n",
        "  treatment = sample(c(0, 1), 20, replace = TRUE)\n",
        ")\n",
        "\n",
        "# Display the original data\n",
        "cat(\"Original Data:\\n\")\n",
        "print(data)\n"
      ],
      "metadata": {
        "colab": {
          "base_uri": "https://localhost:8080/"
        },
        "id": "gwnm3tlksgT1",
        "outputId": "bd8b1dc4-328e-4026-a9cc-a07ff6818834"
      },
      "execution_count": 11,
      "outputs": [
        {
          "output_type": "stream",
          "name": "stdout",
          "text": [
            "Original Data:\n",
            "   age disease_stage gender treatment\n",
            "1   78           HPT Female         1\n",
            "2   66           HPT Female         1\n",
            "3   30           HPT Female         1\n",
            "4   54   without HPT Female         1\n",
            "5   39           HPT Female         1\n",
            "6   65           HPT Female         0\n",
            "7   47           HPT Female         1\n",
            "8   78           HPT   Male         0\n",
            "9   76   without HPT Female         1\n",
            "10  53   without HPT   Male         0\n",
            "11  36   without HPT Female         1\n",
            "12  65   without HPT Female         1\n",
            "13  54           HPT Female         1\n",
            "14  66   without HPT Female         1\n",
            "15  75           HPT   Male         0\n",
            "16  49   without HPT Female         0\n",
            "17  55   without HPT   Male         0\n",
            "18  79   without HPT   Male         0\n",
            "19  76           HPT   Male         1\n",
            "20  32           HPT Female         0\n"
          ]
        }
      ]
    },
    {
      "cell_type": "markdown",
      "source": [
        "Step 2: Perform 1-to-1 Nearest Neighbor Matching\n",
        "We use MatchIt to perform 1-to-1 nearest neighbor matching based on a logistic regression model that estimates the probability of treatment (propensity score). MatchIt internally calculates the propensity score for each observation and uses it to match treated individuals with similar control individuals."
      ],
      "metadata": {
        "id": "2b2eZTdxsn28"
      }
    },
    {
      "cell_type": "code",
      "source": [
        "# Perform 1-to-1 matching with nearest neighbor method\n",
        "match_out <- matchit(treatment ~ age + disease_stage + gender, data = data, method = \"nearest\")\n",
        "\n",
        "# Get the matched dataset\n",
        "matched_data <- match.data(match_out)\n"
      ],
      "metadata": {
        "colab": {
          "base_uri": "https://localhost:8080/"
        },
        "id": "s3_tJTVErGl_",
        "outputId": "94d38d6a-8b91-46c8-af1d-74a089c177e2"
      },
      "execution_count": 12,
      "outputs": [
        {
          "output_type": "stream",
          "name": "stderr",
          "text": [
            "Warning message:\n",
            "“Fewer control units than treated units; not all treated units will get a match.”\n"
          ]
        }
      ]
    },
    {
      "cell_type": "markdown",
      "source": [
        "In this example:\n",
        "\n",
        "1-to-1 Nearest Neighbor Matching: Each treated observation is matched with the nearest control based on similarity in the covariates.\n",
        "Propensity Score: Calculated using logistic regression (default method in MatchIt) to estimate the probability of treatment based on covariates. Matching is then performed on these scores."
      ],
      "metadata": {
        "id": "m4YaFP7cszp8"
      }
    },
    {
      "cell_type": "markdown",
      "source": [
        "Step 3: Display the Matched Data\n",
        "The matched_data object contains only the matched pairs. This dataset is balanced with respect to covariates, making treated and control groups more comparable."
      ],
      "metadata": {
        "id": "yd-kDwnRs1dk"
      }
    },
    {
      "cell_type": "code",
      "source": [
        "# Display the matched data\n",
        "cat(\"\\nMatched Data (After 1-to-1 Nearest Neighbor Matching):\\n\")\n",
        "print(matched_data)\n"
      ],
      "metadata": {
        "colab": {
          "base_uri": "https://localhost:8080/"
        },
        "id": "wuD3B8hus3cN",
        "outputId": "265f4cd5-f1ba-4361-c2b7-2226a42c1492"
      },
      "execution_count": 13,
      "outputs": [
        {
          "output_type": "stream",
          "name": "stdout",
          "text": [
            "\n",
            "Matched Data (After 1-to-1 Nearest Neighbor Matching):\n",
            "   age disease_stage gender treatment   distance weights subclass\n",
            "1   78           HPT Female         1 0.92240756       1        1\n",
            "2   66           HPT Female         1 0.88207514       1        5\n",
            "4   54   without HPT Female         1 0.76489591       1        6\n",
            "6   65           HPT Female         0 0.87799965       1        1\n",
            "7   47           HPT Female         1 0.78222685       1        7\n",
            "8   78           HPT   Male         0 0.23340118       1        4\n",
            "9   76   without HPT Female         1 0.88381582       1        8\n",
            "10  53   without HPT   Male         0 0.07421897       1        6\n",
            "12  65   without HPT Female         1 0.83263129       1        2\n",
            "13  54           HPT Female         1 0.82476087       1        3\n",
            "14  66   without HPT Female         1 0.83794260       1        4\n",
            "15  75           HPT   Male         0 0.21332024       1        2\n",
            "16  49   without HPT Female         0 0.72843065       1        8\n",
            "17  55   without HPT   Male         0 0.07970196       1        7\n",
            "18  79   without HPT   Male         0 0.17948683       1        3\n",
            "20  32           HPT Female         0 0.66809495       1        5\n"
          ]
        }
      ]
    },
    {
      "cell_type": "markdown",
      "source": [
        "Matched Data: Only matched pairs are included in matched_data. The goal is to ensure that for each treated individual, there’s a control individual with similar values for age, disease_stage, and gender. This helps to isolate the effect of the treatment by controlling for these covariates."
      ],
      "metadata": {
        "id": "VgM27hCKs6Qk"
      }
    },
    {
      "cell_type": "markdown",
      "source": [
        "Step 4: Check the Balance of Covariates Before and After Matching\n",
        "The summary(match_out) function provides a summary of covariate balance before and after matching, allowing us to evaluate how well the matching procedure worked in balancing the groups."
      ],
      "metadata": {
        "id": "hOt1jOThs8iV"
      }
    },
    {
      "cell_type": "code",
      "source": [
        "# Check balance of covariates before and after matching\n",
        "cat(\"\\nBalance Summary:\\n\")\n",
        "print(summary(match_out))\n"
      ],
      "metadata": {
        "colab": {
          "base_uri": "https://localhost:8080/"
        },
        "id": "JhKKbYDns9sl",
        "outputId": "4280fbdf-61ef-40ca-d89c-922d110c0c53"
      },
      "execution_count": 14,
      "outputs": [
        {
          "output_type": "stream",
          "name": "stdout",
          "text": [
            "\n",
            "Balance Summary:\n",
            "\n",
            "Call:\n",
            "matchit(formula = treatment ~ age + disease_stage + gender, data = data, \n",
            "    method = \"nearest\")\n",
            "\n",
            "Summary of Balance for All Data:\n",
            "                         Means Treated Means Control Std. Mean Diff. Var. Ratio\n",
            "distance                        0.7454        0.3818          1.9190     0.3464\n",
            "age                            57.2500       60.7500         -0.2119     0.9999\n",
            "disease_stageHPT                0.5833        0.5000          0.1690          .\n",
            "disease_stagewithout HPT        0.4167        0.5000         -0.1690          .\n",
            "genderFemale                    0.9167        0.3750          1.9598          .\n",
            "genderMale                      0.0833        0.6250         -1.9598          .\n",
            "                         eCDF Mean eCDF Max\n",
            "distance                    0.3229   0.5417\n",
            "age                         0.0806   0.2083\n",
            "disease_stageHPT            0.0833   0.0833\n",
            "disease_stagewithout HPT    0.0833   0.0833\n",
            "genderFemale                0.5417   0.5417\n",
            "genderMale                  0.5417   0.5417\n",
            "\n",
            "Summary of Balance for Matched Data:\n",
            "                         Means Treated Means Control Std. Mean Diff. Var. Ratio\n",
            "distance                        0.8413        0.3818          2.4251     0.0272\n",
            "age                            63.2500       60.7500          0.1514     0.4365\n",
            "disease_stageHPT                0.5000        0.5000          0.0000          .\n",
            "disease_stagewithout HPT        0.5000        0.5000          0.0000          .\n",
            "genderFemale                    1.0000        0.3750          2.2613          .\n",
            "genderMale                      0.0000        0.6250         -2.2613          .\n",
            "                         eCDF Mean eCDF Max Std. Pair Dist.\n",
            "distance                    0.4625    0.875          2.4251\n",
            "age                         0.0917    0.250          0.9839\n",
            "disease_stageHPT            0.0000    0.000          0.5000\n",
            "disease_stagewithout HPT    0.0000    0.000          0.5000\n",
            "genderFemale                0.6250    0.625          2.2613\n",
            "genderMale                  0.6250    0.625          2.2613\n",
            "\n",
            "Sample Sizes:\n",
            "          Control Treated\n",
            "All             8      12\n",
            "Matched         8       8\n",
            "Unmatched       0       4\n",
            "Discarded       0       0\n",
            "\n"
          ]
        }
      ]
    },
    {
      "cell_type": "markdown",
      "source": [
        "Covariate Balance: This summary provides balance statistics for each covariate, both before and after matching. A well-balanced dataset will show reduced differences in covariate means or proportions between the treated and control groups after matching.\n",
        "Purpose of Checking Balance: Verifying balance is crucial because it confirms that the matching process has successfully minimized confounding. If covariates are balanced, differences in outcomes can more confidently be attributed to the treatment rather than to pre-existing differences between groups."
      ],
      "metadata": {
        "id": "sbFSZJl1tB_d"
      }
    }
  ]
}